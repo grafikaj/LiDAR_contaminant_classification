{
 "cells": [
  {
   "cell_type": "code",
   "execution_count": 32,
   "metadata": {},
   "outputs": [],
   "source": [
    "import pandas as pd\n",
    "# load all dataset\n",
    "df = pd.read_csv(\"min_loc_x_y_z.csv\")"
   ]
  },
  {
   "cell_type": "code",
   "execution_count": 33,
   "metadata": {},
   "outputs": [],
   "source": [
    "df_add = df.dropna()\n"
   ]
  },
  {
   "cell_type": "code",
   "execution_count": 34,
   "metadata": {},
   "outputs": [
    {
     "data": {
      "text/html": [
       "<div>\n",
       "<style scoped>\n",
       "    .dataframe tbody tr th:only-of-type {\n",
       "        vertical-align: middle;\n",
       "    }\n",
       "\n",
       "    .dataframe tbody tr th {\n",
       "        vertical-align: top;\n",
       "    }\n",
       "\n",
       "    .dataframe thead th {\n",
       "        text-align: right;\n",
       "    }\n",
       "</style>\n",
       "<table border=\"1\" class=\"dataframe\">\n",
       "  <thead>\n",
       "    <tr style=\"text-align: right;\">\n",
       "      <th></th>\n",
       "      <th>x_min</th>\n",
       "      <th>y_min</th>\n",
       "      <th>z_min</th>\n",
       "      <th>x_max</th>\n",
       "      <th>y_max</th>\n",
       "      <th>z_max</th>\n",
       "      <th>class</th>\n",
       "      <th>exp</th>\n",
       "    </tr>\n",
       "  </thead>\n",
       "  <tbody>\n",
       "    <tr>\n",
       "      <th>0</th>\n",
       "      <td>8.473228</td>\n",
       "      <td>-0.188489</td>\n",
       "      <td>-0.253089</td>\n",
       "      <td>8.648523</td>\n",
       "      <td>0.315228</td>\n",
       "      <td>0.141407</td>\n",
       "      <td>oil</td>\n",
       "      <td>1</td>\n",
       "    </tr>\n",
       "    <tr>\n",
       "      <th>1</th>\n",
       "      <td>8.514189</td>\n",
       "      <td>-0.193765</td>\n",
       "      <td>-0.251382</td>\n",
       "      <td>8.758999</td>\n",
       "      <td>0.325867</td>\n",
       "      <td>0.141736</td>\n",
       "      <td>oil</td>\n",
       "      <td>1</td>\n",
       "    </tr>\n",
       "    <tr>\n",
       "      <th>2</th>\n",
       "      <td>8.521878</td>\n",
       "      <td>-0.186584</td>\n",
       "      <td>-0.251917</td>\n",
       "      <td>8.614023</td>\n",
       "      <td>0.336902</td>\n",
       "      <td>0.140676</td>\n",
       "      <td>oil</td>\n",
       "      <td>1</td>\n",
       "    </tr>\n",
       "    <tr>\n",
       "      <th>3</th>\n",
       "      <td>8.394783</td>\n",
       "      <td>-0.187152</td>\n",
       "      <td>-0.251181</td>\n",
       "      <td>8.650144</td>\n",
       "      <td>0.316902</td>\n",
       "      <td>0.140566</td>\n",
       "      <td>oil</td>\n",
       "      <td>1</td>\n",
       "    </tr>\n",
       "    <tr>\n",
       "      <th>4</th>\n",
       "      <td>8.307848</td>\n",
       "      <td>-0.183495</td>\n",
       "      <td>-0.250913</td>\n",
       "      <td>8.693130</td>\n",
       "      <td>0.321775</td>\n",
       "      <td>0.140883</td>\n",
       "      <td>oil</td>\n",
       "      <td>1</td>\n",
       "    </tr>\n",
       "    <tr>\n",
       "      <th>...</th>\n",
       "      <td>...</td>\n",
       "      <td>...</td>\n",
       "      <td>...</td>\n",
       "      <td>...</td>\n",
       "      <td>...</td>\n",
       "      <td>...</td>\n",
       "      <td>...</td>\n",
       "      <td>...</td>\n",
       "    </tr>\n",
       "    <tr>\n",
       "      <th>13045</th>\n",
       "      <td>8.516607</td>\n",
       "      <td>-0.214253</td>\n",
       "      <td>-0.250746</td>\n",
       "      <td>8.870342</td>\n",
       "      <td>0.287007</td>\n",
       "      <td>0.144099</td>\n",
       "      <td>dirt_05</td>\n",
       "      <td>1</td>\n",
       "    </tr>\n",
       "    <tr>\n",
       "      <th>13046</th>\n",
       "      <td>8.412376</td>\n",
       "      <td>-0.225437</td>\n",
       "      <td>-0.251114</td>\n",
       "      <td>8.655673</td>\n",
       "      <td>0.289007</td>\n",
       "      <td>0.140201</td>\n",
       "      <td>dirt_05</td>\n",
       "      <td>1</td>\n",
       "    </tr>\n",
       "    <tr>\n",
       "      <th>13047</th>\n",
       "      <td>8.523973</td>\n",
       "      <td>-0.229408</td>\n",
       "      <td>-0.251382</td>\n",
       "      <td>8.637851</td>\n",
       "      <td>0.279611</td>\n",
       "      <td>0.141139</td>\n",
       "      <td>dirt_05</td>\n",
       "      <td>1</td>\n",
       "    </tr>\n",
       "    <tr>\n",
       "      <th>13048</th>\n",
       "      <td>8.281267</td>\n",
       "      <td>-0.245391</td>\n",
       "      <td>-0.251549</td>\n",
       "      <td>8.781316</td>\n",
       "      <td>0.289641</td>\n",
       "      <td>0.143015</td>\n",
       "      <td>dirt_05</td>\n",
       "      <td>1</td>\n",
       "    </tr>\n",
       "    <tr>\n",
       "      <th>13049</th>\n",
       "      <td>8.447920</td>\n",
       "      <td>-0.224378</td>\n",
       "      <td>-0.251884</td>\n",
       "      <td>8.664016</td>\n",
       "      <td>0.280751</td>\n",
       "      <td>0.141590</td>\n",
       "      <td>dirt_05</td>\n",
       "      <td>1</td>\n",
       "    </tr>\n",
       "  </tbody>\n",
       "</table>\n",
       "<p>10607 rows × 8 columns</p>\n",
       "</div>"
      ],
      "text/plain": [
       "          x_min     y_min     z_min     x_max     y_max     z_max    class  \\\n",
       "0      8.473228 -0.188489 -0.253089  8.648523  0.315228  0.141407      oil   \n",
       "1      8.514189 -0.193765 -0.251382  8.758999  0.325867  0.141736      oil   \n",
       "2      8.521878 -0.186584 -0.251917  8.614023  0.336902  0.140676      oil   \n",
       "3      8.394783 -0.187152 -0.251181  8.650144  0.316902  0.140566      oil   \n",
       "4      8.307848 -0.183495 -0.250913  8.693130  0.321775  0.140883      oil   \n",
       "...         ...       ...       ...       ...       ...       ...      ...   \n",
       "13045  8.516607 -0.214253 -0.250746  8.870342  0.287007  0.144099  dirt_05   \n",
       "13046  8.412376 -0.225437 -0.251114  8.655673  0.289007  0.140201  dirt_05   \n",
       "13047  8.523973 -0.229408 -0.251382  8.637851  0.279611  0.141139  dirt_05   \n",
       "13048  8.281267 -0.245391 -0.251549  8.781316  0.289641  0.143015  dirt_05   \n",
       "13049  8.447920 -0.224378 -0.251884  8.664016  0.280751  0.141590  dirt_05   \n",
       "\n",
       "       exp  \n",
       "0        1  \n",
       "1        1  \n",
       "2        1  \n",
       "3        1  \n",
       "4        1  \n",
       "...    ...  \n",
       "13045    1  \n",
       "13046    1  \n",
       "13047    1  \n",
       "13048    1  \n",
       "13049    1  \n",
       "\n",
       "[10607 rows x 8 columns]"
      ]
     },
     "execution_count": 34,
     "metadata": {},
     "output_type": "execute_result"
    }
   ],
   "source": [
    "df_add\n"
   ]
  },
  {
   "cell_type": "code",
   "execution_count": 35,
   "metadata": {},
   "outputs": [],
   "source": [
    "#get data class=ref without cover\n",
    "df_no_cover =df_add[df_add['class'] == 'no_cover']\n",
    "\n",
    "#get data class=ref with cover\n",
    "df_cover =df_add[df_add['class'] == 'cover']\n",
    "\n",
    "#get data class oil, foam, dirt, water from exp 1,2,3,4\n",
    "#get training data\n",
    "df_dew_all=df_add[df_add['class'] == 'dew']\n",
    "df_dirt_all=df_add[df_add['class'] == 'dirt']\n",
    "df_dirt_05mm_all=df_add[df_add['class'] == 'dirt_05']\n",
    "df_dirt_10mm_all=df_add[df_add['class'] == 'dirt_10']\n",
    "df_dirt_15mm_all=df_add[df_add['class'] == 'dirt_15']\n",
    "df_foam_all=df_add[df_add['class'] == 'foam']\n",
    "df_oil_all=df_add[df_add['class'] == 'oil']\n",
    "df_water_all=df_add[df_add['class'] == 'water']"
   ]
  },
  {
   "cell_type": "code",
   "execution_count": 36,
   "metadata": {},
   "outputs": [
    {
     "data": {
      "text/plain": [
       "x_min    8.243317\n",
       "y_min   -0.223826\n",
       "z_min   -0.257506\n",
       "x_max    8.651392\n",
       "y_max    0.267719\n",
       "z_max    0.141115\n",
       "class    no_cover\n",
       "exp             1\n",
       "dtype: object"
      ]
     },
     "execution_count": 36,
     "metadata": {},
     "output_type": "execute_result"
    }
   ],
   "source": [
    "df_no_cover.min()"
   ]
  },
  {
   "cell_type": "code",
   "execution_count": 37,
   "metadata": {},
   "outputs": [
    {
     "data": {
      "text/plain": [
       "x_min    8.540595\n",
       "y_min   -0.210962\n",
       "z_min   -0.253122\n",
       "x_max    8.981615\n",
       "y_max    0.330838\n",
       "z_max    0.141626\n",
       "class    no_cover\n",
       "exp             1\n",
       "dtype: object"
      ]
     },
     "execution_count": 37,
     "metadata": {},
     "output_type": "execute_result"
    }
   ],
   "source": [
    "df_no_cover.max()"
   ]
  },
  {
   "cell_type": "code",
   "execution_count": 38,
   "metadata": {},
   "outputs": [
    {
     "data": {
      "text/plain": [
       "x_min    8.136452\n",
       "y_min   -0.088035\n",
       "z_min   -0.260452\n",
       "x_max    8.599905\n",
       "y_max    0.443903\n",
       "z_max    0.140566\n",
       "class       cover\n",
       "exp             1\n",
       "dtype: object"
      ]
     },
     "execution_count": 38,
     "metadata": {},
     "output_type": "execute_result"
    }
   ],
   "source": [
    "df_cover.min()"
   ]
  },
  {
   "cell_type": "code",
   "execution_count": 39,
   "metadata": {},
   "outputs": [
    {
     "data": {
      "text/plain": [
       "x_min    8.548478\n",
       "y_min   -0.034594\n",
       "z_min   -0.250779\n",
       "x_max    8.944306\n",
       "y_max     0.49868\n",
       "z_max    0.145147\n",
       "class       cover\n",
       "exp             1\n",
       "dtype: object"
      ]
     },
     "execution_count": 39,
     "metadata": {},
     "output_type": "execute_result"
    }
   ],
   "source": [
    "df_cover.max()"
   ]
  },
  {
   "cell_type": "code",
   "execution_count": 40,
   "metadata": {},
   "outputs": [
    {
     "data": {
      "text/plain": [
       "x_min    8.281876\n",
       "y_min   -0.417343\n",
       "z_min   -0.255398\n",
       "x_max    8.298426\n",
       "y_max   -0.376908\n",
       "z_max   -0.252185\n",
       "class         dew\n",
       "exp             1\n",
       "dtype: object"
      ]
     },
     "execution_count": 40,
     "metadata": {},
     "output_type": "execute_result"
    }
   ],
   "source": [
    "df_dew_all.min()"
   ]
  },
  {
   "cell_type": "code",
   "execution_count": 41,
   "metadata": {},
   "outputs": [
    {
     "data": {
      "text/plain": [
       "x_min      8.8556\n",
       "y_min      0.1573\n",
       "z_min    0.142187\n",
       "x_max      8.8556\n",
       "y_max    0.243081\n",
       "z_max    0.142187\n",
       "class         dew\n",
       "exp             5\n",
       "dtype: object"
      ]
     },
     "execution_count": 41,
     "metadata": {},
     "output_type": "execute_result"
    }
   ],
   "source": [
    "df_dew_all.max()"
   ]
  },
  {
   "cell_type": "code",
   "execution_count": 42,
   "metadata": {},
   "outputs": [
    {
     "data": {
      "text/plain": [
       "x_min    8.271215\n",
       "y_min   -0.136055\n",
       "z_min   -0.248369\n",
       "x_max    8.564021\n",
       "y_max    0.273031\n",
       "z_max    0.139567\n",
       "class        dirt\n",
       "exp             1\n",
       "dtype: object"
      ]
     },
     "execution_count": 42,
     "metadata": {},
     "output_type": "execute_result"
    }
   ],
   "source": [
    "df_dirt_all.min()"
   ]
  },
  {
   "cell_type": "code",
   "execution_count": 43,
   "metadata": {},
   "outputs": [
    {
     "data": {
      "text/plain": [
       "x_min    8.550221\n",
       "y_min    -0.01715\n",
       "z_min   -0.166685\n",
       "x_max    8.948627\n",
       "y_max    0.422328\n",
       "z_max    0.145062\n",
       "class        dirt\n",
       "exp             5\n",
       "dtype: object"
      ]
     },
     "execution_count": 43,
     "metadata": {},
     "output_type": "execute_result"
    }
   ],
   "source": [
    "df_dirt_all.max()"
   ]
  },
  {
   "cell_type": "code",
   "execution_count": 44,
   "metadata": {},
   "outputs": [
    {
     "data": {
      "text/plain": [
       "x_min    8.137781\n",
       "y_min   -0.314089\n",
       "z_min   -0.261389\n",
       "x_max     8.59471\n",
       "y_max    0.272539\n",
       "z_max    0.139738\n",
       "class     dirt_05\n",
       "exp             1\n",
       "dtype: object"
      ]
     },
     "execution_count": 44,
     "metadata": {},
     "output_type": "execute_result"
    }
   ],
   "source": [
    "df_dirt_05mm_all.min()"
   ]
  },
  {
   "cell_type": "code",
   "execution_count": 45,
   "metadata": {},
   "outputs": [
    {
     "data": {
      "text/plain": [
       "x_min    8.549645\n",
       "y_min   -0.210812\n",
       "z_min   -0.250612\n",
       "x_max    8.916849\n",
       "y_max    0.352375\n",
       "z_max    0.144513\n",
       "class     dirt_05\n",
       "exp             1\n",
       "dtype: object"
      ]
     },
     "execution_count": 45,
     "metadata": {},
     "output_type": "execute_result"
    }
   ],
   "source": [
    "df_dirt_05mm_all.max()"
   ]
  },
  {
   "cell_type": "code",
   "execution_count": 46,
   "metadata": {},
   "outputs": [
    {
     "data": {
      "text/plain": [
       "x_min    8.252307\n",
       "y_min   -0.499952\n",
       "z_min   -0.260519\n",
       "x_max     8.49979\n",
       "y_max    -0.34273\n",
       "z_max   -0.009304\n",
       "class     dirt_10\n",
       "exp             1\n",
       "dtype: object"
      ]
     },
     "execution_count": 46,
     "metadata": {},
     "output_type": "execute_result"
    }
   ],
   "source": [
    "df_dirt_10mm_all.min()"
   ]
  },
  {
   "cell_type": "code",
   "execution_count": 47,
   "metadata": {},
   "outputs": [
    {
     "data": {
      "text/plain": [
       "x_min    8.600792\n",
       "y_min   -0.453925\n",
       "z_min   -0.167838\n",
       "x_max    8.864602\n",
       "y_max   -0.256534\n",
       "z_max    0.143661\n",
       "class     dirt_10\n",
       "exp             1\n",
       "dtype: object"
      ]
     },
     "execution_count": 47,
     "metadata": {},
     "output_type": "execute_result"
    }
   ],
   "source": [
    "df_dirt_10mm_all.max()"
   ]
  },
  {
   "cell_type": "code",
   "execution_count": 48,
   "metadata": {},
   "outputs": [
    {
     "data": {
      "text/plain": [
       "x_min    8.282683\n",
       "y_min    -0.49987\n",
       "z_min   -0.254695\n",
       "x_max    8.358178\n",
       "y_max   -0.499788\n",
       "z_max   -0.173005\n",
       "class     dirt_15\n",
       "exp             1\n",
       "dtype: object"
      ]
     },
     "execution_count": 48,
     "metadata": {},
     "output_type": "execute_result"
    }
   ],
   "source": [
    "df_dirt_15mm_all.min()"
   ]
  },
  {
   "cell_type": "code",
   "execution_count": 49,
   "metadata": {},
   "outputs": [
    {
     "data": {
      "text/plain": [
       "x_min    8.786819\n",
       "y_min   -0.394762\n",
       "z_min    0.143015\n",
       "x_max    8.791254\n",
       "y_max   -0.354731\n",
       "z_max    0.143015\n",
       "class     dirt_15\n",
       "exp             1\n",
       "dtype: object"
      ]
     },
     "execution_count": 49,
     "metadata": {},
     "output_type": "execute_result"
    }
   ],
   "source": [
    "df_dirt_15mm_all.max()"
   ]
  },
  {
   "cell_type": "code",
   "execution_count": 50,
   "metadata": {},
   "outputs": [
    {
     "data": {
      "text/plain": [
       "x_min    8.167933\n",
       "y_min   -0.190016\n",
       "z_min   -0.258644\n",
       "x_max     8.32077\n",
       "y_max   -0.017249\n",
       "z_max   -0.163633\n",
       "class        foam\n",
       "exp             1\n",
       "dtype: object"
      ]
     },
     "execution_count": 50,
     "metadata": {},
     "output_type": "execute_result"
    }
   ],
   "source": [
    "df_foam_all.min()"
   ]
  },
  {
   "cell_type": "code",
   "execution_count": 51,
   "metadata": {},
   "outputs": [
    {
     "data": {
      "text/plain": [
       "x_min     8.65253\n",
       "y_min     0.33501\n",
       "z_min    0.141066\n",
       "x_max    8.938702\n",
       "y_max    0.455935\n",
       "z_max    0.144781\n",
       "class        foam\n",
       "exp             5\n",
       "dtype: object"
      ]
     },
     "execution_count": 51,
     "metadata": {},
     "output_type": "execute_result"
    }
   ],
   "source": [
    "df_foam_all.max()"
   ]
  },
  {
   "cell_type": "code",
   "execution_count": 52,
   "metadata": {},
   "outputs": [
    {
     "data": {
      "text/plain": [
       "x_min    8.176684\n",
       "y_min   -0.313579\n",
       "z_min    -0.25995\n",
       "x_max     8.56809\n",
       "y_max    0.286851\n",
       "z_max    0.139982\n",
       "class         oil\n",
       "exp             1\n",
       "dtype: object"
      ]
     },
     "execution_count": 52,
     "metadata": {},
     "output_type": "execute_result"
    }
   ],
   "source": [
    "df_oil_all.min()"
   ]
  },
  {
   "cell_type": "code",
   "execution_count": 53,
   "metadata": {},
   "outputs": [
    {
     "data": {
      "text/plain": [
       "x_min    8.557737\n",
       "y_min   -0.159596\n",
       "z_min   -0.249574\n",
       "x_max    8.992307\n",
       "y_max    0.417024\n",
       "z_max    0.145646\n",
       "class         oil\n",
       "exp             5\n",
       "dtype: object"
      ]
     },
     "execution_count": 53,
     "metadata": {},
     "output_type": "execute_result"
    }
   ],
   "source": [
    "df_oil_all.max()"
   ]
  },
  {
   "cell_type": "code",
   "execution_count": 54,
   "metadata": {},
   "outputs": [
    {
     "data": {
      "text/plain": [
       "x_min    8.166916\n",
       "y_min   -0.136527\n",
       "z_min    -0.25262\n",
       "x_max    8.569243\n",
       "y_max     0.37475\n",
       "z_max    0.140201\n",
       "class       water\n",
       "exp             1\n",
       "dtype: object"
      ]
     },
     "execution_count": 54,
     "metadata": {},
     "output_type": "execute_result"
    }
   ],
   "source": [
    "df_water_all.min()"
   ]
  },
  {
   "cell_type": "code",
   "execution_count": 55,
   "metadata": {},
   "outputs": [
    {
     "data": {
      "text/plain": [
       "x_min    8.551755\n",
       "y_min    0.009327\n",
       "z_min   -0.168968\n",
       "x_max     8.96022\n",
       "y_max    0.499952\n",
       "z_max    0.145293\n",
       "class       water\n",
       "exp             5\n",
       "dtype: object"
      ]
     },
     "execution_count": 55,
     "metadata": {},
     "output_type": "execute_result"
    }
   ],
   "source": [
    "df_water_all.max()"
   ]
  },
  {
   "cell_type": "code",
   "execution_count": null,
   "metadata": {},
   "outputs": [],
   "source": []
  },
  {
   "cell_type": "code",
   "execution_count": null,
   "metadata": {},
   "outputs": [],
   "source": []
  },
  {
   "cell_type": "code",
   "execution_count": null,
   "metadata": {},
   "outputs": [],
   "source": []
  },
  {
   "cell_type": "code",
   "execution_count": null,
   "metadata": {},
   "outputs": [],
   "source": []
  },
  {
   "cell_type": "code",
   "execution_count": null,
   "metadata": {},
   "outputs": [],
   "source": []
  },
  {
   "cell_type": "code",
   "execution_count": 14,
   "metadata": {},
   "outputs": [],
   "source": [
    "df_dew_all=df_add[df_add['class'] == 'dew']\n",
    "df_dirt_all=df_add[df_add['class'] == 'dirt']\n",
    "df_dirt_05mm_all=df_add[df_add['class'] == 'dirt_05']\n",
    "df_dirt_10mm_all=df_add[df_add['class'] == 'dirt_10']\n",
    "df_dirt_15mm_all=df_add[df_add['class'] == 'dirt_15']\n",
    "df_foam_all=df_add[df_add['class'] == 'foam']\n",
    "df_oil_all=df_add[df_add['class'] == 'oil']\n",
    "df_water_all=df_add[df_add['class'] == 'water']"
   ]
  },
  {
   "cell_type": "code",
   "execution_count": 15,
   "metadata": {},
   "outputs": [
    {
     "data": {
      "text/html": [
       "<div>\n",
       "<style scoped>\n",
       "    .dataframe tbody tr th:only-of-type {\n",
       "        vertical-align: middle;\n",
       "    }\n",
       "\n",
       "    .dataframe tbody tr th {\n",
       "        vertical-align: top;\n",
       "    }\n",
       "\n",
       "    .dataframe thead th {\n",
       "        text-align: right;\n",
       "    }\n",
       "</style>\n",
       "<table border=\"1\" class=\"dataframe\">\n",
       "  <thead>\n",
       "    <tr style=\"text-align: right;\">\n",
       "      <th></th>\n",
       "      <th>x_min</th>\n",
       "      <th>y_min</th>\n",
       "      <th>z_min</th>\n",
       "      <th>x_max</th>\n",
       "      <th>y_max</th>\n",
       "      <th>z_max</th>\n",
       "      <th>class</th>\n",
       "      <th>exp</th>\n",
       "    </tr>\n",
       "  </thead>\n",
       "  <tbody>\n",
       "    <tr>\n",
       "      <th>1350</th>\n",
       "      <td>NaN</td>\n",
       "      <td>NaN</td>\n",
       "      <td>NaN</td>\n",
       "      <td>NaN</td>\n",
       "      <td>NaN</td>\n",
       "      <td>NaN</td>\n",
       "      <td>dew</td>\n",
       "      <td>5</td>\n",
       "    </tr>\n",
       "    <tr>\n",
       "      <th>1351</th>\n",
       "      <td>NaN</td>\n",
       "      <td>NaN</td>\n",
       "      <td>NaN</td>\n",
       "      <td>NaN</td>\n",
       "      <td>NaN</td>\n",
       "      <td>NaN</td>\n",
       "      <td>dew</td>\n",
       "      <td>5</td>\n",
       "    </tr>\n",
       "    <tr>\n",
       "      <th>1352</th>\n",
       "      <td>NaN</td>\n",
       "      <td>NaN</td>\n",
       "      <td>NaN</td>\n",
       "      <td>NaN</td>\n",
       "      <td>NaN</td>\n",
       "      <td>NaN</td>\n",
       "      <td>dew</td>\n",
       "      <td>5</td>\n",
       "    </tr>\n",
       "    <tr>\n",
       "      <th>1353</th>\n",
       "      <td>NaN</td>\n",
       "      <td>NaN</td>\n",
       "      <td>NaN</td>\n",
       "      <td>NaN</td>\n",
       "      <td>NaN</td>\n",
       "      <td>NaN</td>\n",
       "      <td>dew</td>\n",
       "      <td>5</td>\n",
       "    </tr>\n",
       "    <tr>\n",
       "      <th>1354</th>\n",
       "      <td>NaN</td>\n",
       "      <td>NaN</td>\n",
       "      <td>NaN</td>\n",
       "      <td>NaN</td>\n",
       "      <td>NaN</td>\n",
       "      <td>NaN</td>\n",
       "      <td>dew</td>\n",
       "      <td>5</td>\n",
       "    </tr>\n",
       "    <tr>\n",
       "      <th>...</th>\n",
       "      <td>...</td>\n",
       "      <td>...</td>\n",
       "      <td>...</td>\n",
       "      <td>...</td>\n",
       "      <td>...</td>\n",
       "      <td>...</td>\n",
       "      <td>...</td>\n",
       "      <td>...</td>\n",
       "    </tr>\n",
       "    <tr>\n",
       "      <th>7195</th>\n",
       "      <td>NaN</td>\n",
       "      <td>NaN</td>\n",
       "      <td>NaN</td>\n",
       "      <td>NaN</td>\n",
       "      <td>NaN</td>\n",
       "      <td>NaN</td>\n",
       "      <td>dew</td>\n",
       "      <td>2</td>\n",
       "    </tr>\n",
       "    <tr>\n",
       "      <th>7196</th>\n",
       "      <td>NaN</td>\n",
       "      <td>NaN</td>\n",
       "      <td>NaN</td>\n",
       "      <td>NaN</td>\n",
       "      <td>NaN</td>\n",
       "      <td>NaN</td>\n",
       "      <td>dew</td>\n",
       "      <td>2</td>\n",
       "    </tr>\n",
       "    <tr>\n",
       "      <th>7197</th>\n",
       "      <td>NaN</td>\n",
       "      <td>NaN</td>\n",
       "      <td>NaN</td>\n",
       "      <td>NaN</td>\n",
       "      <td>NaN</td>\n",
       "      <td>NaN</td>\n",
       "      <td>dew</td>\n",
       "      <td>2</td>\n",
       "    </tr>\n",
       "    <tr>\n",
       "      <th>7198</th>\n",
       "      <td>NaN</td>\n",
       "      <td>NaN</td>\n",
       "      <td>NaN</td>\n",
       "      <td>NaN</td>\n",
       "      <td>NaN</td>\n",
       "      <td>NaN</td>\n",
       "      <td>dew</td>\n",
       "      <td>2</td>\n",
       "    </tr>\n",
       "    <tr>\n",
       "      <th>7199</th>\n",
       "      <td>NaN</td>\n",
       "      <td>NaN</td>\n",
       "      <td>NaN</td>\n",
       "      <td>NaN</td>\n",
       "      <td>NaN</td>\n",
       "      <td>NaN</td>\n",
       "      <td>dew</td>\n",
       "      <td>2</td>\n",
       "    </tr>\n",
       "  </tbody>\n",
       "</table>\n",
       "<p>1800 rows × 8 columns</p>\n",
       "</div>"
      ],
      "text/plain": [
       "      x_min  y_min  z_min  x_max  y_max  z_max class  exp\n",
       "1350    NaN    NaN    NaN    NaN    NaN    NaN   dew    5\n",
       "1351    NaN    NaN    NaN    NaN    NaN    NaN   dew    5\n",
       "1352    NaN    NaN    NaN    NaN    NaN    NaN   dew    5\n",
       "1353    NaN    NaN    NaN    NaN    NaN    NaN   dew    5\n",
       "1354    NaN    NaN    NaN    NaN    NaN    NaN   dew    5\n",
       "...     ...    ...    ...    ...    ...    ...   ...  ...\n",
       "7195    NaN    NaN    NaN    NaN    NaN    NaN   dew    2\n",
       "7196    NaN    NaN    NaN    NaN    NaN    NaN   dew    2\n",
       "7197    NaN    NaN    NaN    NaN    NaN    NaN   dew    2\n",
       "7198    NaN    NaN    NaN    NaN    NaN    NaN   dew    2\n",
       "7199    NaN    NaN    NaN    NaN    NaN    NaN   dew    2\n",
       "\n",
       "[1800 rows x 8 columns]"
      ]
     },
     "execution_count": 15,
     "metadata": {},
     "output_type": "execute_result"
    }
   ],
   "source": [
    "df_dew_all"
   ]
  },
  {
   "cell_type": "code",
   "execution_count": null,
   "metadata": {},
   "outputs": [],
   "source": []
  }
 ],
 "metadata": {
  "kernelspec": {
   "display_name": "py3.8LidCov",
   "language": "python",
   "name": "python3"
  },
  "language_info": {
   "codemirror_mode": {
    "name": "ipython",
    "version": 3
   },
   "file_extension": ".py",
   "mimetype": "text/x-python",
   "name": "python",
   "nbconvert_exporter": "python",
   "pygments_lexer": "ipython3",
   "version": "3.8.10"
  },
  "orig_nbformat": 4
 },
 "nbformat": 4,
 "nbformat_minor": 2
}
